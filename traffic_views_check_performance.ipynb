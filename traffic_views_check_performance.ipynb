{
 "cells": [
  {
   "cell_type": "code",
   "execution_count": 1,
   "metadata": {},
   "outputs": [],
   "source": [
    "import warnings\n",
    "warnings.filterwarnings('ignore')\n",
    "import os\n",
    "import flatten_dict\n",
    "import pytorch_lightning as pl\n",
    "from omegaconf import OmegaConf\n",
    "import torch\n",
    "from dabs.src.systems import viewmaker, viewmaker_original\n",
    "import numpy as np\n",
    "import matplotlib.pyplot as plt\n",
    "import PIL.Image as image\n",
    "import torchvision\n",
    "from IPython import display\n",
    "from viewmaker.src.systems.image_systems.utils import heatmap_of_view_effect\n",
    "from torchvision.utils import make_grid\n",
    "import pandas as pd\n",
    "from tqdm.notebook import tqdm\n",
    "import seaborn as sns\n",
    "%matplotlib inline"
   ]
  },
  {
   "cell_type": "code",
   "execution_count": 2,
   "metadata": {},
   "outputs": [],
   "source": [
    "import torchvision.transforms.functional as F\n",
    "\n",
    "def show(imgs,**fig_kwr):\n",
    "    if not isinstance(imgs, list):\n",
    "        imgs = [imgs]\n",
    "    fig, axs = plt.subplots(ncols=len(imgs), squeeze=False,**fig_kwr)\n",
    "    for i, img in enumerate(imgs):\n",
    "        img = img.detach()\n",
    "        img = F.to_pil_image(img)\n",
    "        axs[0, i].imshow(np.asarray(img))\n",
    "        axs[0, i].set(xticklabels=[], yticklabels=[], xticks=[], yticks=[])"
   ]
  },
  {
   "cell_type": "code",
   "execution_count": 3,
   "metadata": {},
   "outputs": [
    {
     "name": "stderr",
     "output_type": "stream",
     "text": [
      "Global seed set to 0\n"
     ]
    },
    {
     "name": "stdout",
     "output_type": "stream",
     "text": [
      "\u001b[94m31367 train examples, 7842 val examples\u001b[0m\n"
     ]
    },
    {
     "data": {
      "text/plain": [
       "TrafficViewMaker(\n",
       "  (model): TrafficModel(\n",
       "    (embed_modules): ModuleList()\n",
       "    (traffic_model): Net(\n",
       "      (conv1): Conv2d(3, 100, kernel_size=(5, 5), stride=(1, 1))\n",
       "      (bn1): BatchNorm2d(100, eps=1e-05, momentum=0.1, affine=True, track_running_stats=True)\n",
       "      (conv2): Conv2d(100, 150, kernel_size=(3, 3), stride=(1, 1))\n",
       "      (bn2): BatchNorm2d(150, eps=1e-05, momentum=0.1, affine=True, track_running_stats=True)\n",
       "      (conv3): Conv2d(150, 250, kernel_size=(3, 3), stride=(1, 1))\n",
       "      (bn3): BatchNorm2d(250, eps=1e-05, momentum=0.1, affine=True, track_running_stats=True)\n",
       "      (conv_drop): Dropout2d(p=0.5, inplace=False)\n",
       "      (fc1): Linear(in_features=1000, out_features=350, bias=True)\n",
       "      (fc2): Linear(in_features=350, out_features=43, bias=True)\n",
       "      (localization): Sequential(\n",
       "        (0): Conv2d(3, 8, kernel_size=(7, 7), stride=(1, 1))\n",
       "        (1): MaxPool2d(kernel_size=2, stride=2, padding=0, dilation=1, ceil_mode=False)\n",
       "        (2): ReLU(inplace=True)\n",
       "        (3): Conv2d(8, 10, kernel_size=(5, 5), stride=(1, 1))\n",
       "        (4): MaxPool2d(kernel_size=2, stride=2, padding=0, dilation=1, ceil_mode=False)\n",
       "        (5): ReLU(inplace=True)\n",
       "      )\n",
       "      (fc_loc): Sequential(\n",
       "        (0): Linear(in_features=160, out_features=32, bias=True)\n",
       "        (1): ReLU(inplace=True)\n",
       "        (2): Linear(in_features=32, out_features=6, bias=True)\n",
       "      )\n",
       "    )\n",
       "  )\n",
       "  (viewmaker): Viewmaker(\n",
       "    (act): ReLU()\n",
       "    (conv1): ConvLayer(\n",
       "      (reflection_pad): ReflectionPad2d((4, 4, 4, 4))\n",
       "      (conv2d): Conv2d(4, 32, kernel_size=(9, 9), stride=(1, 1))\n",
       "    )\n",
       "    (in1): InstanceNorm2d(32, eps=1e-05, momentum=0.1, affine=True, track_running_stats=False)\n",
       "    (conv2): ConvLayer(\n",
       "      (reflection_pad): ReflectionPad2d((1, 1, 1, 1))\n",
       "      (conv2d): Conv2d(32, 64, kernel_size=(3, 3), stride=(2, 2))\n",
       "    )\n",
       "    (in2): InstanceNorm2d(64, eps=1e-05, momentum=0.1, affine=True, track_running_stats=False)\n",
       "    (conv3): ConvLayer(\n",
       "      (reflection_pad): ReflectionPad2d((1, 1, 1, 1))\n",
       "      (conv2d): Conv2d(64, 128, kernel_size=(3, 3), stride=(2, 2))\n",
       "    )\n",
       "    (in3): InstanceNorm2d(128, eps=1e-05, momentum=0.1, affine=True, track_running_stats=False)\n",
       "    (res1): ResidualBlock(\n",
       "      (conv1): ConvLayer(\n",
       "        (reflection_pad): ReflectionPad2d((1, 1, 1, 1))\n",
       "        (conv2d): Conv2d(129, 129, kernel_size=(3, 3), stride=(1, 1))\n",
       "      )\n",
       "      (in1): InstanceNorm2d(129, eps=1e-05, momentum=0.1, affine=True, track_running_stats=False)\n",
       "      (conv2): ConvLayer(\n",
       "        (reflection_pad): ReflectionPad2d((1, 1, 1, 1))\n",
       "        (conv2d): Conv2d(129, 129, kernel_size=(3, 3), stride=(1, 1))\n",
       "      )\n",
       "      (in2): InstanceNorm2d(129, eps=1e-05, momentum=0.1, affine=True, track_running_stats=False)\n",
       "      (act): ReLU()\n",
       "    )\n",
       "    (res2): ResidualBlock(\n",
       "      (conv1): ConvLayer(\n",
       "        (reflection_pad): ReflectionPad2d((1, 1, 1, 1))\n",
       "        (conv2d): Conv2d(130, 130, kernel_size=(3, 3), stride=(1, 1))\n",
       "      )\n",
       "      (in1): InstanceNorm2d(130, eps=1e-05, momentum=0.1, affine=True, track_running_stats=False)\n",
       "      (conv2): ConvLayer(\n",
       "        (reflection_pad): ReflectionPad2d((1, 1, 1, 1))\n",
       "        (conv2d): Conv2d(130, 130, kernel_size=(3, 3), stride=(1, 1))\n",
       "      )\n",
       "      (in2): InstanceNorm2d(130, eps=1e-05, momentum=0.1, affine=True, track_running_stats=False)\n",
       "      (act): ReLU()\n",
       "    )\n",
       "    (res3): ResidualBlock(\n",
       "      (conv1): ConvLayer(\n",
       "        (reflection_pad): ReflectionPad2d((1, 1, 1, 1))\n",
       "        (conv2d): Conv2d(131, 131, kernel_size=(3, 3), stride=(1, 1))\n",
       "      )\n",
       "      (in1): InstanceNorm2d(131, eps=1e-05, momentum=0.1, affine=True, track_running_stats=False)\n",
       "      (conv2): ConvLayer(\n",
       "        (reflection_pad): ReflectionPad2d((1, 1, 1, 1))\n",
       "        (conv2d): Conv2d(131, 131, kernel_size=(3, 3), stride=(1, 1))\n",
       "      )\n",
       "      (in2): InstanceNorm2d(131, eps=1e-05, momentum=0.1, affine=True, track_running_stats=False)\n",
       "      (act): ReLU()\n",
       "    )\n",
       "    (res4): ResidualBlock(\n",
       "      (conv1): ConvLayer(\n",
       "        (reflection_pad): ReflectionPad2d((1, 1, 1, 1))\n",
       "        (conv2d): Conv2d(132, 132, kernel_size=(3, 3), stride=(1, 1))\n",
       "      )\n",
       "      (in1): InstanceNorm2d(132, eps=1e-05, momentum=0.1, affine=True, track_running_stats=False)\n",
       "      (conv2): ConvLayer(\n",
       "        (reflection_pad): ReflectionPad2d((1, 1, 1, 1))\n",
       "        (conv2d): Conv2d(132, 132, kernel_size=(3, 3), stride=(1, 1))\n",
       "      )\n",
       "      (in2): InstanceNorm2d(132, eps=1e-05, momentum=0.1, affine=True, track_running_stats=False)\n",
       "      (act): ReLU()\n",
       "    )\n",
       "    (res5): ResidualBlock(\n",
       "      (conv1): ConvLayer(\n",
       "        (reflection_pad): ReflectionPad2d((1, 1, 1, 1))\n",
       "        (conv2d): Conv2d(133, 133, kernel_size=(3, 3), stride=(1, 1))\n",
       "      )\n",
       "      (in1): InstanceNorm2d(133, eps=1e-05, momentum=0.1, affine=True, track_running_stats=False)\n",
       "      (conv2): ConvLayer(\n",
       "        (reflection_pad): ReflectionPad2d((1, 1, 1, 1))\n",
       "        (conv2d): Conv2d(133, 133, kernel_size=(3, 3), stride=(1, 1))\n",
       "      )\n",
       "      (in2): InstanceNorm2d(133, eps=1e-05, momentum=0.1, affine=True, track_running_stats=False)\n",
       "      (act): ReLU()\n",
       "    )\n",
       "    (deconv1): UpsampleConvLayer(\n",
       "      (reflection_pad): ReflectionPad2d((1, 1, 1, 1))\n",
       "      (conv2d): Conv2d(131, 64, kernel_size=(3, 3), stride=(1, 1))\n",
       "    )\n",
       "    (in4): InstanceNorm2d(64, eps=1e-05, momentum=0.1, affine=True, track_running_stats=False)\n",
       "    (deconv2): UpsampleConvLayer(\n",
       "      (reflection_pad): ReflectionPad2d((1, 1, 1, 1))\n",
       "      (conv2d): Conv2d(64, 32, kernel_size=(3, 3), stride=(1, 1))\n",
       "    )\n",
       "    (in5): InstanceNorm2d(32, eps=1e-05, momentum=0.1, affine=True, track_running_stats=False)\n",
       "    (deconv3): ConvLayer(\n",
       "      (reflection_pad): ReflectionPad2d((4, 4, 4, 4))\n",
       "      (conv2d): Conv2d(32, 3, kernel_size=(9, 9), stride=(1, 1))\n",
       "    )\n",
       "  )\n",
       "  (memory_bank): MemoryBank()\n",
       "  (memory_bank_labels): MemoryBank()\n",
       "  (disc): TinyP2PDiscriminator(\n",
       "    (conv_block1): DescConvBlock(\n",
       "      (conv1): Conv2d(3, 64, kernel_size=(3, 3), stride=(2, 2), padding=(1, 1))\n",
       "      (batch_norm): Identity()\n",
       "      (dropout): Dropout(p=0.25, inplace=False)\n",
       "    )\n",
       "    (conv_block2): DescConvBlock(\n",
       "      (conv1): Conv2d(64, 128, kernel_size=(3, 3), stride=(1, 1), padding=(1, 1))\n",
       "      (batch_norm): BatchNorm2d(128, eps=1e-05, momentum=0.8, affine=True, track_running_stats=True)\n",
       "      (dropout): Dropout(p=0.25, inplace=False)\n",
       "    )\n",
       "    (conv_block3): DescConvBlock(\n",
       "      (conv1): Conv2d(128, 256, kernel_size=(3, 3), stride=(1, 1), padding=(1, 1))\n",
       "      (batch_norm): BatchNorm2d(256, eps=1e-05, momentum=0.8, affine=True, track_running_stats=True)\n",
       "      (dropout): Dropout(p=0.25, inplace=False)\n",
       "    )\n",
       "    (conv_block4): DescConvBlock(\n",
       "      (conv1): Conv2d(256, 512, kernel_size=(3, 3), stride=(1, 1), padding=(1, 1))\n",
       "      (batch_norm): BatchNorm2d(512, eps=1e-05, momentum=0.8, affine=True, track_running_stats=True)\n",
       "      (dropout): Dropout(p=0.25, inplace=False)\n",
       "    )\n",
       "    (final_conv): Conv2d(512, 1, kernel_size=(3, 3), stride=(1, 1), padding=(1, 1))\n",
       "  )\n",
       ")"
      ]
     },
     "execution_count": 3,
     "metadata": {},
     "output_type": "execute_result"
    }
   ],
   "source": [
    "config = OmegaConf.load('/workspace/dabs/conf/traffic.yaml')\n",
    "config.debug = True\n",
    "config.dataset = OmegaConf.load('/workspace/dabs/conf/dataset/traffic_sign_small.yaml')\n",
    "config.model = OmegaConf.load('/workspace/dabs/conf/model/traffic_model.yaml')\n",
    "\n",
    "config.dataset.batch_size = 64\n",
    "\n",
    "pl.seed_everything(config.trainer.seed)\n",
    "\n",
    "system = viewmaker_original.TrafficViewMaker(config)\n",
    "system.setup('')\n",
    "system.load_state_dict(torch.load('/workspace/dabs/exp/models/traffic_gan/presentation.ckpt')['state_dict'],strict=False)\n",
    "\n",
    "system.eval()"
   ]
  },
  {
   "cell_type": "markdown",
   "metadata": {},
   "source": [
    "## benchmark on test dataset"
   ]
  },
  {
   "cell_type": "code",
   "execution_count": 4,
   "metadata": {},
   "outputs": [
    {
     "name": "stdout",
     "output_type": "stream",
     "text": [
      "Test Data accuracy:  tensor(30.0077)\n"
     ]
    }
   ],
   "source": [
    "adv_dir = \"/workspace/dabs/data/natural_images/traffic_sign/GTSRB/Validation_Adversarial_v0/Images/\"\n",
    "\n",
    "import os\n",
    "from glob import glob\n",
    "import cv2\n",
    "from PIL import Image\n",
    "from torchvision import transforms\n",
    "\n",
    "from pathlib import Path\n",
    "result = list(Path(adv_dir).rglob(\"*.ppm\"))\n",
    "\n",
    "\n",
    "transform = transforms.Compose(\n",
    "            [transforms.Resize((32, 32)),\n",
    "             transforms.CenterCrop((32, 32)),\n",
    "             transforms.ToTensor()]\n",
    "        )\n",
    "\n",
    "data = []\n",
    "labels = []\n",
    "for img in result:\n",
    "    try:\n",
    "        image = Image.open(img).convert(mode='RGB')\n",
    "        image = transform(image)\n",
    "        data.append(image)\n",
    "        labels.append(int(str(img).replace(adv_dir,'')[:5]))\n",
    "    except:\n",
    "        print(\"Error in \" + img)\n",
    "\n",
    "labels = torch.from_numpy(np.array(labels))\n",
    "X_test = torch.stack(data)\n",
    "\n",
    "pred=system.predict(X_test).squeeze()\n",
    "\n",
    "#Accuracy with the test data\n",
    "print('Test Data accuracy: ',((pred==labels).sum()/len(labels))*100)"
   ]
  },
  {
   "cell_type": "markdown",
   "metadata": {},
   "source": [
    "## test on augmentations of test"
   ]
  },
  {
   "cell_type": "code",
   "execution_count": 5,
   "metadata": {},
   "outputs": [
    {
     "name": "stderr",
     "output_type": "stream",
     "text": [
      "Global seed set to 123\n"
     ]
    },
    {
     "data": {
      "application/json": {
       "ascii": false,
       "bar_format": null,
       "colour": null,
       "elapsed": 0.018553495407104492,
       "initial": 0,
       "n": 0,
       "ncols": null,
       "nrows": null,
       "postfix": null,
       "prefix": "",
       "rate": null,
       "total": 7808,
       "unit": "it",
       "unit_divisor": 1000,
       "unit_scale": false
      },
      "application/vnd.jupyter.widget-view+json": {
       "model_id": "2fb3867edde74b7689bc0249d304eedd",
       "version_major": 2,
       "version_minor": 0
      },
      "text/plain": [
       "  0%|          | 0/7808 [00:00<?, ?it/s]"
      ]
     },
     "metadata": {},
     "output_type": "display_data"
    }
   ],
   "source": [
    "pl.seed_everything(123)\n",
    "\n",
    "no_transform = transforms.Compose(\n",
    "            [transforms.Resize((32, 32)),\n",
    "             transforms.CenterCrop((32, 32)),\n",
    "             transforms.ToTensor()]\n",
    "        )\n",
    "\n",
    "# Resize, normalize and jitter image brightness\n",
    "data_jitter_brightness = transforms.Compose([\n",
    "\ttransforms.Resize((32, 32)),\n",
    "    # transforms.ColorJitter(brightness=-5),\n",
    "    transforms.ColorJitter(brightness=5),\n",
    "    transforms.ToTensor(),\n",
    "])\n",
    "\n",
    "# Resize, normalize and jitter image saturation\n",
    "data_jitter_saturation = transforms.Compose([\n",
    "\ttransforms.Resize((32, 32)),\n",
    "    transforms.ColorJitter(saturation=5),\n",
    "    # transforms.ColorJitter(saturation=-5),\n",
    "    transforms.ToTensor(),\n",
    "])\n",
    "\n",
    "# Resize, normalize and jitter image contrast\n",
    "data_jitter_contrast = transforms.Compose([\n",
    "\ttransforms.Resize((32, 32)),\n",
    "    transforms.ColorJitter(contrast=5),\n",
    "    # transforms.ColorJitter(contrast=-5),\n",
    "    transforms.ToTensor(),\n",
    "])\n",
    "\n",
    "# Resize, normalize and jitter image hues\n",
    "data_jitter_hue = transforms.Compose([\n",
    "\ttransforms.Resize((32, 32)),\n",
    "    transforms.ColorJitter(hue=0.4),\n",
    "    transforms.ToTensor(),\n",
    "])\n",
    "\n",
    "# Resize, normalize and rotate image\n",
    "data_rotate = transforms.Compose([\n",
    "\ttransforms.Resize((32, 32)),\n",
    "    transforms.RandomRotation(15),\n",
    "    transforms.ToTensor(),\n",
    "])\n",
    "\n",
    "# Resize, normalize and flip image horizontally and vertically\n",
    "data_hvflip = transforms.Compose([\n",
    "\ttransforms.Resize((32, 32)),\n",
    "    transforms.RandomHorizontalFlip(1),\n",
    "    transforms.RandomVerticalFlip(1),\n",
    "    transforms.ToTensor(),\n",
    "])\n",
    "\n",
    "# Resize, normalize and flip image horizontally\n",
    "data_hflip = transforms.Compose([\n",
    "\ttransforms.Resize((32, 32)),\n",
    "    transforms.RandomHorizontalFlip(1),\n",
    "    transforms.ToTensor(),\n",
    "])\n",
    "\n",
    "# Resize, normalize and flip image vertically\n",
    "data_vflip = transforms.Compose([\n",
    "\ttransforms.Resize((32, 32)),\n",
    "    transforms.RandomVerticalFlip(1),\n",
    "    transforms.ToTensor(),\n",
    "])\n",
    "\n",
    "# Resize, normalize and shear image\n",
    "data_shear = transforms.Compose([\n",
    "\ttransforms.Resize((32, 32)),\n",
    "    transforms.RandomAffine(degrees = 15,shear=2),\n",
    "    transforms.ToTensor(),\n",
    "])\n",
    "\n",
    "# Resize, normalize and translate image\n",
    "data_translate = transforms.Compose([\n",
    "\ttransforms.Resize((32, 32)),\n",
    "    transforms.RandomAffine(degrees = 15,translate=(0.1,0.1)),\n",
    "    transforms.ToTensor(),\n",
    "])\n",
    "\n",
    "# Resize, normalize and crop image \n",
    "data_center = transforms.Compose([\n",
    "\ttransforms.Resize((36, 36)),\n",
    "    transforms.CenterCrop(32),\n",
    "    transforms.ToTensor(),\n",
    "])\n",
    "\n",
    "# Resize, normalize and convert image to grayscale\n",
    "data_grayscale = transforms.Compose([\n",
    "\ttransforms.Resize((32, 32)),\n",
    "    transforms.Grayscale(num_output_channels=3),\n",
    "    transforms.ToTensor(),\n",
    "])\n",
    "\n",
    "# Resize, normalize and convert image to grayscale\n",
    "sharpness = transforms.Compose([\n",
    "\ttransforms.Resize((32, 32)),\n",
    "    transforms.RandomAdjustSharpness(sharpness_factor=2,p=1),\n",
    "    transforms.ToTensor(),\n",
    "])\n",
    "\n",
    "transform_candidates = [no_transform,data_jitter_saturation,data_jitter_contrast,data_jitter_hue,data_rotate,data_hvflip,data_hflip,data_vflip,data_shear,data_translate,data_center,data_grayscale,sharpness]\n",
    "\n",
    "# for transform in transform_candidates:\n",
    "\n",
    "# data = []\n",
    "labels = []\n",
    "for img in tqdm(result):\n",
    "    try:\n",
    "        label = int(str(img).replace(adv_dir,'')[:5])\n",
    "        image = Image.open(img).convert(mode='RGB')\n",
    "        x = torch.stack([ transform(image) for transform in transform_candidates])\n",
    "        pred=system.predict(x).squeeze()\n",
    "        labels.append(torch.hstack([torch.Tensor([label]),pred]).numpy())\n",
    "    except:\n",
    "        print(\"Error in \" + img)\n",
    "\n",
    "results_df = pd.DataFrame(data=np.array(labels),columns=['original','no_transform','data_jitter_saturation','data_jitter_contrast','data_jitter_hue','data_rotate','data_hvflip','data_hflip','data_vflip','data_shear','data_translate','data_center','data_grayscale','sharpness'])\n"
   ]
  },
  {
   "cell_type": "code",
   "execution_count": 6,
   "metadata": {},
   "outputs": [],
   "source": [
    "columns=['original','no_transform','data_jitter_saturation','data_jitter_contrast','data_jitter_hue','data_rotate','data_hvflip','data_hflip','data_vflip','data_shear','data_translate','data_center','data_grayscale','sharpness']\n",
    "\n",
    "d = {}\n",
    "for col in columns[1:]:\n",
    "    d[f'original_vs_{col}'] = [(results_df['original'] == results_df[col]).mean()]\n",
    "\n",
    "for col in columns[2:]:\n",
    "    d[f'no_transform_vs_{col}'] = [(results_df['no_transform'] == results_df[col]).mean()]\n",
    "\n"
   ]
  },
  {
   "cell_type": "code",
   "execution_count": 7,
   "metadata": {},
   "outputs": [
    {
     "data": {
      "text/html": [
       "<div>\n",
       "<style scoped>\n",
       "    .dataframe tbody tr th:only-of-type {\n",
       "        vertical-align: middle;\n",
       "    }\n",
       "\n",
       "    .dataframe tbody tr th {\n",
       "        vertical-align: top;\n",
       "    }\n",
       "\n",
       "    .dataframe thead th {\n",
       "        text-align: right;\n",
       "    }\n",
       "</style>\n",
       "<table border=\"1\" class=\"dataframe\">\n",
       "  <thead>\n",
       "    <tr style=\"text-align: right;\">\n",
       "      <th></th>\n",
       "      <th>0</th>\n",
       "    </tr>\n",
       "  </thead>\n",
       "  <tbody>\n",
       "    <tr>\n",
       "      <th>original_vs_no_transform</th>\n",
       "      <td>0.300077</td>\n",
       "    </tr>\n",
       "    <tr>\n",
       "      <th>original_vs_data_jitter_saturation</th>\n",
       "      <td>0.318648</td>\n",
       "    </tr>\n",
       "    <tr>\n",
       "      <th>original_vs_data_jitter_contrast</th>\n",
       "      <td>0.311475</td>\n",
       "    </tr>\n",
       "    <tr>\n",
       "      <th>original_vs_data_jitter_hue</th>\n",
       "      <td>0.284708</td>\n",
       "    </tr>\n",
       "    <tr>\n",
       "      <th>original_vs_data_rotate</th>\n",
       "      <td>0.301486</td>\n",
       "    </tr>\n",
       "    <tr>\n",
       "      <th>original_vs_data_hvflip</th>\n",
       "      <td>0.299821</td>\n",
       "    </tr>\n",
       "    <tr>\n",
       "      <th>original_vs_data_hflip</th>\n",
       "      <td>0.269211</td>\n",
       "    </tr>\n",
       "    <tr>\n",
       "      <th>original_vs_data_vflip</th>\n",
       "      <td>0.251793</td>\n",
       "    </tr>\n",
       "    <tr>\n",
       "      <th>original_vs_data_shear</th>\n",
       "      <td>0.301358</td>\n",
       "    </tr>\n",
       "    <tr>\n",
       "      <th>original_vs_data_translate</th>\n",
       "      <td>0.309298</td>\n",
       "    </tr>\n",
       "    <tr>\n",
       "      <th>original_vs_data_center</th>\n",
       "      <td>0.288806</td>\n",
       "    </tr>\n",
       "    <tr>\n",
       "      <th>original_vs_data_grayscale</th>\n",
       "      <td>0.277536</td>\n",
       "    </tr>\n",
       "    <tr>\n",
       "      <th>original_vs_sharpness</th>\n",
       "      <td>0.294185</td>\n",
       "    </tr>\n",
       "    <tr>\n",
       "      <th>no_transform_vs_data_jitter_saturation</th>\n",
       "      <td>0.853740</td>\n",
       "    </tr>\n",
       "    <tr>\n",
       "      <th>no_transform_vs_data_jitter_contrast</th>\n",
       "      <td>0.781762</td>\n",
       "    </tr>\n",
       "    <tr>\n",
       "      <th>no_transform_vs_data_jitter_hue</th>\n",
       "      <td>0.848105</td>\n",
       "    </tr>\n",
       "    <tr>\n",
       "      <th>no_transform_vs_data_rotate</th>\n",
       "      <td>0.862065</td>\n",
       "    </tr>\n",
       "    <tr>\n",
       "      <th>no_transform_vs_data_hvflip</th>\n",
       "      <td>0.694032</td>\n",
       "    </tr>\n",
       "    <tr>\n",
       "      <th>no_transform_vs_data_hflip</th>\n",
       "      <td>0.380379</td>\n",
       "    </tr>\n",
       "    <tr>\n",
       "      <th>no_transform_vs_data_vflip</th>\n",
       "      <td>0.357070</td>\n",
       "    </tr>\n",
       "    <tr>\n",
       "      <th>no_transform_vs_data_shear</th>\n",
       "      <td>0.859503</td>\n",
       "    </tr>\n",
       "    <tr>\n",
       "      <th>no_transform_vs_data_translate</th>\n",
       "      <td>0.768186</td>\n",
       "    </tr>\n",
       "    <tr>\n",
       "      <th>no_transform_vs_data_center</th>\n",
       "      <td>0.856814</td>\n",
       "    </tr>\n",
       "    <tr>\n",
       "      <th>no_transform_vs_data_grayscale</th>\n",
       "      <td>0.844390</td>\n",
       "    </tr>\n",
       "    <tr>\n",
       "      <th>no_transform_vs_sharpness</th>\n",
       "      <td>0.903945</td>\n",
       "    </tr>\n",
       "  </tbody>\n",
       "</table>\n",
       "</div>"
      ],
      "text/plain": [
       "                                               0\n",
       "original_vs_no_transform                0.300077\n",
       "original_vs_data_jitter_saturation      0.318648\n",
       "original_vs_data_jitter_contrast        0.311475\n",
       "original_vs_data_jitter_hue             0.284708\n",
       "original_vs_data_rotate                 0.301486\n",
       "original_vs_data_hvflip                 0.299821\n",
       "original_vs_data_hflip                  0.269211\n",
       "original_vs_data_vflip                  0.251793\n",
       "original_vs_data_shear                  0.301358\n",
       "original_vs_data_translate              0.309298\n",
       "original_vs_data_center                 0.288806\n",
       "original_vs_data_grayscale              0.277536\n",
       "original_vs_sharpness                   0.294185\n",
       "no_transform_vs_data_jitter_saturation  0.853740\n",
       "no_transform_vs_data_jitter_contrast    0.781762\n",
       "no_transform_vs_data_jitter_hue         0.848105\n",
       "no_transform_vs_data_rotate             0.862065\n",
       "no_transform_vs_data_hvflip             0.694032\n",
       "no_transform_vs_data_hflip              0.380379\n",
       "no_transform_vs_data_vflip              0.357070\n",
       "no_transform_vs_data_shear              0.859503\n",
       "no_transform_vs_data_translate          0.768186\n",
       "no_transform_vs_data_center             0.856814\n",
       "no_transform_vs_data_grayscale          0.844390\n",
       "no_transform_vs_sharpness               0.903945"
      ]
     },
     "execution_count": 7,
     "metadata": {},
     "output_type": "execute_result"
    }
   ],
   "source": [
    "pd.DataFrame.from_dict(d).T"
   ]
  },
  {
   "attachments": {},
   "cell_type": "markdown",
   "metadata": {},
   "source": [
    "# again"
   ]
  },
  {
   "cell_type": "code",
   "execution_count": 1,
   "metadata": {},
   "outputs": [
    {
     "name": "stdout",
     "output_type": "stream",
     "text": [
      "Using GPU\n"
     ]
    },
    {
     "data": {
      "text/plain": [
       "Net(\n",
       "  (conv1): Conv2d(3, 100, kernel_size=(5, 5), stride=(1, 1))\n",
       "  (bn1): BatchNorm2d(100, eps=1e-05, momentum=0.1, affine=True, track_running_stats=True)\n",
       "  (conv2): Conv2d(100, 150, kernel_size=(3, 3), stride=(1, 1))\n",
       "  (bn2): BatchNorm2d(150, eps=1e-05, momentum=0.1, affine=True, track_running_stats=True)\n",
       "  (conv3): Conv2d(150, 250, kernel_size=(3, 3), stride=(1, 1))\n",
       "  (bn3): BatchNorm2d(250, eps=1e-05, momentum=0.1, affine=True, track_running_stats=True)\n",
       "  (conv_drop): Dropout2d(p=0.5, inplace=False)\n",
       "  (fc1): Linear(in_features=1000, out_features=350, bias=True)\n",
       "  (fc2): Linear(in_features=350, out_features=43, bias=True)\n",
       "  (localization): Sequential(\n",
       "    (0): Conv2d(3, 8, kernel_size=(7, 7), stride=(1, 1))\n",
       "    (1): MaxPool2d(kernel_size=2, stride=2, padding=0, dilation=1, ceil_mode=False)\n",
       "    (2): ReLU(inplace=True)\n",
       "    (3): Conv2d(8, 10, kernel_size=(5, 5), stride=(1, 1))\n",
       "    (4): MaxPool2d(kernel_size=2, stride=2, padding=0, dilation=1, ceil_mode=False)\n",
       "    (5): ReLU(inplace=True)\n",
       "  )\n",
       "  (fc_loc): Sequential(\n",
       "    (0): Linear(in_features=160, out_features=32, bias=True)\n",
       "    (1): ReLU(inplace=True)\n",
       "    (2): Linear(in_features=32, out_features=6, bias=True)\n",
       "  )\n",
       ")"
      ]
     },
     "execution_count": 1,
     "metadata": {},
     "output_type": "execute_result"
    }
   ],
   "source": [
    "from __future__ import print_function\n",
    "import warnings\n",
    "warnings.filterwarnings(\"ignore\")\n",
    "from tqdm import tqdm\n",
    "import PIL.Image as Image\n",
    "import torch\n",
    "from torch.autograd import Variable\n",
    "import torch.nn.functional as F\n",
    "import torchvision.datasets as datasets\n",
    "import numpy as np\n",
    "from gtsrb_pytorch.model import Net\n",
    "import pandas as pd\n",
    "from torchvision import datasets, transforms\n",
    "from gtsrb_pytorch.data import *\n",
    "import seaborn as sns\n",
    "\n",
    "\n",
    "state_dict = torch.load('/workspace/gtsrb_pytorch/model/model_40.pth')\n",
    "model = Net()\n",
    "model.load_state_dict(state_dict)\n",
    "model.eval()\n",
    "\n",
    "\n",
    "if torch.cuda.is_available():\n",
    "    use_gpu = True\n",
    "    print(\"Using GPU\")\n",
    "else:\n",
    "\tuse_gpu = False\n",
    "\tprint(\"Using CPU\")\n",
    "\n",
    "if use_gpu:\n",
    "    model.cuda()\n",
    "\n",
    "model.eval()"
   ]
  },
  {
   "cell_type": "code",
   "execution_count": 2,
   "metadata": {},
   "outputs": [],
   "source": [
    "\n",
    "val_data_path = '/workspace/dabs/data/adv_data/traffic_sign/07_01_2023/traffic_budget_budget=0.005/val'\n",
    "# val_data_path = '/workspace/gtsrb_pytorch/data/val_images'\n",
    "# Apply data transformations on the training images to augment dataset\n",
    "\n",
    "   \n"
   ]
  },
  {
   "cell_type": "code",
   "execution_count": 4,
   "metadata": {},
   "outputs": [],
   "source": [
    "def validate(model,val_loader):\n",
    "    correct = 0\n",
    "    for data, target in tqdm(val_loader):\n",
    "        with torch.no_grad():\n",
    "            data, target = Variable(data), Variable(target)\n",
    "            if use_gpu:\n",
    "                data = data.cuda()\n",
    "                target = target.cuda()\n",
    "            output = model.forward_original(data)\n",
    "            pred = output.data.max(1, keepdim=True)[1] # get the index of the max log-probability\n",
    "            correct += pred.eq(target.data.view_as(pred)).cpu().sum()\n",
    "    acc = correct / len(val_loader.dataset)\n",
    "    return acc\n"
   ]
  },
  {
   "cell_type": "code",
   "execution_count": 6,
   "metadata": {},
   "outputs": [
    {
     "name": "stderr",
     "output_type": "stream",
     "text": [
      "100%|██████████| 488/488 [00:05<00:00, 92.24it/s] \n"
     ]
    },
    {
     "name": "stdout",
     "output_type": "stream",
     "text": [
      "data_transforms: acc 40.53%\n"
     ]
    },
    {
     "name": "stderr",
     "output_type": "stream",
     "text": [
      "100%|██████████| 488/488 [00:03<00:00, 146.13it/s]\n"
     ]
    },
    {
     "name": "stdout",
     "output_type": "stream",
     "text": [
      "data_jitter_brightness: acc 37.07%\n"
     ]
    },
    {
     "name": "stderr",
     "output_type": "stream",
     "text": [
      "100%|██████████| 488/488 [00:03<00:00, 138.46it/s]\n"
     ]
    },
    {
     "name": "stdout",
     "output_type": "stream",
     "text": [
      "data_jitter_saturation: acc 41.69%\n"
     ]
    },
    {
     "name": "stderr",
     "output_type": "stream",
     "text": [
      "100%|██████████| 488/488 [00:04<00:00, 119.64it/s]\n"
     ]
    },
    {
     "name": "stdout",
     "output_type": "stream",
     "text": [
      "data_jitter_contrast: acc 41.38%\n"
     ]
    },
    {
     "name": "stderr",
     "output_type": "stream",
     "text": [
      "100%|██████████| 488/488 [00:04<00:00, 112.17it/s]\n"
     ]
    },
    {
     "name": "stdout",
     "output_type": "stream",
     "text": [
      "data_jitter_hue: acc 39.22%\n"
     ]
    },
    {
     "name": "stderr",
     "output_type": "stream",
     "text": [
      "100%|██████████| 488/488 [00:03<00:00, 150.56it/s]\n"
     ]
    },
    {
     "name": "stdout",
     "output_type": "stream",
     "text": [
      "data_rotate: acc 40.09%\n"
     ]
    },
    {
     "name": "stderr",
     "output_type": "stream",
     "text": [
      "100%|██████████| 488/488 [00:03<00:00, 156.08it/s]\n"
     ]
    },
    {
     "name": "stdout",
     "output_type": "stream",
     "text": [
      "data_hvflip: acc 40.39%\n"
     ]
    },
    {
     "name": "stderr",
     "output_type": "stream",
     "text": [
      "100%|██████████| 488/488 [00:03<00:00, 162.63it/s]\n"
     ]
    },
    {
     "name": "stdout",
     "output_type": "stream",
     "text": [
      "data_hflip: acc 30.97%\n"
     ]
    },
    {
     "name": "stderr",
     "output_type": "stream",
     "text": [
      "100%|██████████| 488/488 [00:03<00:00, 162.17it/s]\n"
     ]
    },
    {
     "name": "stdout",
     "output_type": "stream",
     "text": [
      "data_vflip: acc 29.45%\n"
     ]
    },
    {
     "name": "stderr",
     "output_type": "stream",
     "text": [
      "100%|██████████| 488/488 [00:03<00:00, 147.70it/s]\n"
     ]
    },
    {
     "name": "stdout",
     "output_type": "stream",
     "text": [
      "data_shear: acc 40.16%\n"
     ]
    },
    {
     "name": "stderr",
     "output_type": "stream",
     "text": [
      "100%|██████████| 488/488 [00:03<00:00, 144.28it/s]\n"
     ]
    },
    {
     "name": "stdout",
     "output_type": "stream",
     "text": [
      "data_translate: acc 40.92%\n"
     ]
    },
    {
     "name": "stderr",
     "output_type": "stream",
     "text": [
      "100%|██████████| 488/488 [00:03<00:00, 152.50it/s]\n"
     ]
    },
    {
     "name": "stdout",
     "output_type": "stream",
     "text": [
      "data_center: acc 38.90%\n"
     ]
    },
    {
     "name": "stderr",
     "output_type": "stream",
     "text": [
      "100%|██████████| 488/488 [00:03<00:00, 151.58it/s]"
     ]
    },
    {
     "name": "stdout",
     "output_type": "stream",
     "text": [
      "data_grayscale: acc 38.14%\n"
     ]
    },
    {
     "name": "stderr",
     "output_type": "stream",
     "text": [
      "\n"
     ]
    }
   ],
   "source": [
    "traffic_transforms = {'data_transforms': data_transforms,'data_jitter_brightness': data_jitter_brightness,'data_jitter_saturation': data_jitter_saturation,'data_jitter_contrast': data_jitter_contrast,\n",
    "'data_jitter_hue': data_jitter_hue,'data_rotate': data_rotate,'data_hvflip': data_hvflip,'data_hflip': data_hflip,'data_vflip': data_vflip,'data_shear': data_shear,'data_translate': data_translate,\n",
    "'data_center': data_center,'data_grayscale': data_grayscale}\n",
    "\n",
    "results = dict()\n",
    "for k in traffic_transforms.keys():\n",
    "    t = traffic_transforms[k]\n",
    "    val_loader = torch.utils.data.DataLoader(\n",
    "    datasets.ImageFolder(val_data_path,transform=t,is_valid_file=lambda s: 'view' in s),\n",
    "    batch_size=32, shuffle=False, num_workers=4, pin_memory=use_gpu)\n",
    "    acc = validate(model,val_loader)\n",
    "    results[k] = acc\n",
    "    print(f'{k}: acc {acc*100.0:0.2f}%')\n"
   ]
  },
  {
   "cell_type": "code",
   "execution_count": 16,
   "metadata": {},
   "outputs": [
    {
     "data": {
      "text/plain": [
       "<AxesSubplot:>"
      ]
     },
     "execution_count": 16,
     "metadata": {},
     "output_type": "execute_result"
    },
    {
     "data": {
      "image/png": "[encoded data removed]",
      "text/plain": [
       "<Figure size 432x288 with 1 Axes>"
      ]
     },
     "metadata": {
      "needs_background": "light"
     },
     "output_type": "display_data"
    }
   ],
   "source": [
    "pd_result = pd.DataFrame.from_dict({k: [results[k].item()] for k in results.keys()})\n",
    "sns.barplot(pd_result)"
   ]
  },
  {
   "cell_type": "code",
   "execution_count": 18,
   "metadata": {},
   "outputs": [
    {
     "name": "stdout",
     "output_type": "stream",
     "text": [
      "raw_adv ASR = 59.47105586528778% ; mean additional transform ASR = 61.8009311457475%\n"
     ]
    }
   ],
   "source": [
    "raw_data_key = 'data_transforms'\n",
    "raw_adversarial = results[raw_data_key].item()\n",
    "w_transform = np.mean([results[k].item() for k in results.keys() if k!=raw_data_key])\n",
    "print(f'raw_adv ASR = {(1-raw_adversarial)*100.}% ; mean additional transform ASR = {(1-w_transform)*100.}%')"
   ]
  },
  {
   "cell_type": "code",
   "execution_count": null,
   "metadata": {},
   "outputs": [],
   "source": []
  }
 ],
 "metadata": {
  "kernelspec": {
   "display_name": "Python 3.8.12 ('base')",
   "language": "python",
   "name": "python3"
  },
  "language_info": {
   "codemirror_mode": {
    "name": "ipython",
    "version": 3
   },
   "file_extension": ".py",
   "mimetype": "text/x-python",
   "name": "python",
   "nbconvert_exporter": "python",
   "pygments_lexer": "ipython3",
   "version": "3.8.13"
  },
  "orig_nbformat": 4,
  "vscode": {
   "interpreter": {
    "hash": "d4d1e4263499bec80672ea0156c357c1ee493ec2b1c70f0acce89fc37c4a6abe"
   }
  }
 },
 "nbformat": 4,
 "nbformat_minor": 2
}
