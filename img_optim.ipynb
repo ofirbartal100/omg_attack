{
 "cells": [
  {
   "cell_type": "code",
   "execution_count": 5,
   "metadata": {
    "ExecuteTime": {
     "end_time": "2022-02-20T13:35:13.773623Z",
     "start_time": "2022-02-20T13:35:09.809426Z"
    }
   },
   "outputs": [],
   "source": [
    "import torch\n",
    "from torchvision import models\n",
    "from torchvision import datasets\n",
    "from torchvision import transforms\n",
    "from torch.utils.data import DataLoader\n",
    "from torch.optim import SGD, Adam\n",
    "from torch.nn import functional as F\n",
    "import torch.nn as nn\n",
    "import matplotlib.pyplot as plt\n",
    "from tqdm.notebook import tqdm\n",
    "from torch.optim.lr_scheduler import MultiStepLR, ReduceLROnPlateau\n",
    "import copy\n",
    "import IPython\n",
    "from torchvision.transforms import Resize\n",
    "# from pl_bolts.models.autoencoders import AE\n",
    "# from pytorch_lightning import LightningModule, Trainer, Callback\n",
    "from torch.utils.data import Dataset\n",
    "import torch_dct as dct"
   ]
  },
  {
   "cell_type": "code",
   "execution_count": 6,
   "metadata": {
    "ExecuteTime": {
     "end_time": "2022-02-20T13:40:10.639628Z",
     "start_time": "2022-02-20T13:39:49.579234Z"
    }
   },
   "outputs": [
    {
     "name": "stdout",
     "output_type": "stream",
     "text": [
      "loading annotations into memory...\n",
      "Done (t=118.61s)\n",
      "creating index...\n",
      "index created!\n"
     ]
    }
   ],
   "source": [
    "mean = (0.408, 0.377, 0.352)\n",
    "std  = (0.269, 0.260, 0.261)\n",
    "coco = datasets.CocoDetection(root=\"/disk2/ofirb/dabs/data/captioned_images/mscoco/train2017/\",\n",
    "                              annFile=\"/disk2/ofirb/dabs/data/captioned_images/mscoco/annotations/instances_train2017.json\",\n",
    "                              transform=transforms.Compose([transforms.Resize((32, 32)),\n",
    "                                                            transforms.ToTensor(),\n",
    "                                                            transforms.Normalize(mean, std)])\n",
    "                             )\n",
    "coco_loader = DataLoader(coco, batch_size=1)\n",
    "# resnet50 = models.resnet50(pretrained=True)"
   ]
  },
  {
   "cell_type": "code",
   "execution_count": 27,
   "metadata": {},
   "outputs": [
    {
     "name": "stdout",
     "output_type": "stream",
     "text": [
      "tensor(1.8750)\n",
      "tensor(1.8750)\n"
     ]
    }
   ],
   "source": [
    "res = torch.Tensor([[0,1,2,3,4,5,6,7],[1,1,2,3,4,5,6,7],[2,1,2,3,4,5,6,7],[3,1,2,3,4,5,6,7],[4,1,2,3,4,5,6,7],[5,1,2,3,4,5,6,7],[6,1,2,3,4,5,6,7],[7,1,2,3,4,5,6,7]])\n",
    "a,b=4,4\n",
    "print((4*res.mean()-2*(res[a:]).mean() -(res[:a,b:]).mean()))\n",
    "print(res[:a,:b].mean())\n"
   ]
  },
  {
   "cell_type": "code",
   "execution_count": 42,
   "metadata": {
    "ExecuteTime": {
     "end_time": "2022-02-20T13:53:06.744809Z",
     "start_time": "2022-02-20T13:53:06.731765Z"
    }
   },
   "outputs": [],
   "source": [
    "import torch\n",
    "import torch_dct as dct\n",
    "\n",
    "class LowFreqPenaltyLoss(torch.nn.Module):\n",
    "\n",
    "    def __init__(self):\n",
    "        super().__init__()\n",
    "\n",
    "    def forward(self,delta,spatial_shape=(32,32)):\n",
    "        if len(spatial_shape) == 2:\n",
    "            res = dct.dct_2d(delta)\n",
    "            # a = spatial_shape[0]//10\n",
    "            # b = spatial_shape[1]//10\n",
    "            a = spatial_shape[0]//4\n",
    "            b = spatial_shape[1]//4\n",
    "            # parts = 2*2\n",
    "            # a = 4\n",
    "            # b = 4\n",
    "            return (res[:,:,:a,:b].abs()).mean() #(parts*res.abs().mean() - res[:,:,a:,b:].abs().mean())/(parts-1) \n",
    "        \n",
    "        else:\n",
    "            raise ValueError(f'LowFreqPenaltyLoss not implemented for spatial_shape: {spatial_shape}')\n",
    "\n",
    "\n",
    "class HighFreqPenaltyLoss(torch.nn.Module):\n",
    "\n",
    "    def __init__(self):\n",
    "        super().__init__()\n",
    "\n",
    "    def forward(self,delta,spatial_shape=(32,32)):\n",
    "        if len(spatial_shape) == 2:\n",
    "            res = dct.dct_2d(delta)\n",
    "            a = spatial_shape[0]//4\n",
    "            b = spatial_shape[1]//4\n",
    "            parts = 4 * 4\n",
    "            # a = 4\n",
    "            # b = 4\n",
    "            return (parts*res.abs().mean() - res[:,:,:a,:b].abs().mean())/(parts) #(res[:,:,a:,b:].abs()).mean()\n",
    "        \n",
    "        else:\n",
    "            raise ValueError(f'HighFreqPenaltyLoss not implemented for spatial_shape: {spatial_shape}')"
   ]
  },
  {
   "cell_type": "code",
   "execution_count": 43,
   "metadata": {
    "ExecuteTime": {
     "end_time": "2022-02-20T13:53:09.511109Z",
     "start_time": "2022-02-20T13:53:09.426699Z"
    }
   },
   "outputs": [
    {
     "name": "stderr",
     "output_type": "stream",
     "text": [
      "Clipping input data to the valid range for imshow with RGB data ([0..1] for floats or [0..255] for integers).\n",
      "Clipping input data to the valid range for imshow with RGB data ([0..1] for floats or [0..255] for integers).\n"
     ]
    },
    {
     "data": {
      "image/png": "[encoded data removed]",
      "text/plain": [
       "<Figure size 1296x360 with 3 Axes>"
      ]
     },
     "metadata": {
      "needs_background": "light"
     },
     "output_type": "display_data"
    }
   ],
   "source": [
    "device = 2\n",
    "\n",
    "# norm = lambda im: (im - im.min())/(im.max()-im.min())\n",
    "# mean_tensor = torch.tensor(mean, device=device).reshape(1,3,1,1)\n",
    "# std_tensor = torch.tensor(std, device=device).reshape(1,3,1,1)\n",
    "\n",
    "# crit = HighFreqPenaltyLoss()\n",
    "crit = LowFreqPenaltyLoss()\n",
    "\n",
    "for j, (image, target) in enumerate(coco_loader):\n",
    "    # if j < 5:\n",
    "        # continue\n",
    "    original = torch.clone(image).detach()\n",
    "    image = image.to(device)\n",
    "    losses = []\n",
    "    image.requires_grad = True\n",
    "    sgd = Adam([image], lr=0.1)\n",
    "    sched = ReduceLROnPlateau(sgd, verbose=True, patience=500)\n",
    "    for i in range(10000):\n",
    "        sgd.zero_grad()\n",
    "        loss = crit(image, (image.shape[-2],image.shape[-1]))\n",
    "        loss.backward()\n",
    "        sgd.step()\n",
    "        sched.step(loss)\n",
    "        losses.append(loss.cpu().item())\n",
    "        if i%1000==0:\n",
    "            IPython.display.clear_output(wait=True)\n",
    "            plt.figure(figsize=(18,5))\n",
    "            plt.subplot(131)\n",
    "            plt.yscale(\"log\")\n",
    "            plt.plot(losses)\n",
    "            plt.subplot(132)\n",
    "            plt.imshow(image[0].detach().cpu().permute(1,2,0))\n",
    "            plt.subplot(133)\n",
    "            plt.imshow(original[0].permute(1,2,0))\n",
    "            plt.show()\n",
    "            plt.close()\n",
    "    prev_im = image\n",
    "    break"
   ]
  },
  {
   "cell_type": "code",
   "execution_count": 32,
   "metadata": {},
   "outputs": [
    {
     "name": "stderr",
     "output_type": "stream",
     "text": [
      "Clipping input data to the valid range for imshow with RGB data ([0..1] for floats or [0..255] for integers).\n",
      "Clipping input data to the valid range for imshow with RGB data ([0..1] for floats or [0..255] for integers).\n"
     ]
    },
    {
     "data": {
      "image/png": "[encoded data removed]",
      "text/plain": [
       "<Figure size 1296x360 with 3 Axes>"
      ]
     },
     "metadata": {
      "needs_background": "light"
     },
     "output_type": "display_data"
    }
   ],
   "source": [
    "device = 1\n",
    "\n",
    "# norm = lambda im: (im - im.min())/(im.max()-im.min())\n",
    "# mean_tensor = torch.tensor(mean, device=device).reshape(1,3,1,1)\n",
    "# std_tensor = torch.tensor(std, device=device).reshape(1,3,1,1)\n",
    "\n",
    "crit = HighFreqPenaltyLoss()\n",
    "# crit = LowFreqPenaltyLoss()\n",
    "\n",
    "for j, (image, target) in enumerate(coco_loader):\n",
    "    # if j < 5:\n",
    "        # continue\n",
    "    original = torch.clone(image).detach()\n",
    "    image = image.to(device)\n",
    "    losses = []\n",
    "    image.requires_grad = True\n",
    "    sgd = Adam([image], lr=0.1)\n",
    "    sched = ReduceLROnPlateau(sgd, verbose=True, patience=500)\n",
    "    for i in range(10000):\n",
    "        sgd.zero_grad()\n",
    "        loss = crit(image, (image.shape[-2],image.shape[-1]))\n",
    "        loss.backward()\n",
    "        sgd.step()\n",
    "        sched.step(loss)\n",
    "        losses.append(loss.cpu().item())\n",
    "        if i%1000==0:\n",
    "            IPython.display.clear_output(wait=True)\n",
    "            plt.figure(figsize=(18,5))\n",
    "            plt.subplot(131)\n",
    "            plt.yscale(\"log\")\n",
    "            plt.plot(losses)\n",
    "            plt.subplot(132)\n",
    "            plt.imshow(image[0].detach().cpu().permute(1,2,0))\n",
    "            plt.subplot(133)\n",
    "            plt.imshow(original[0].permute(1,2,0))\n",
    "            plt.show()\n",
    "            plt.close()\n",
    "    prev_im = image\n",
    "    break"
   ]
  },
  {
   "cell_type": "code",
   "execution_count": null,
   "metadata": {},
   "outputs": [],
   "source": []
  }
 ],
 "metadata": {
  "kernelspec": {
   "display_name": "Python 3",
   "language": "python",
   "name": "python3"
  },
  "language_info": {
   "codemirror_mode": {
    "name": "ipython",
    "version": 3
   },
   "file_extension": ".py",
   "mimetype": "text/x-python",
   "name": "python",
   "nbconvert_exporter": "python",
   "pygments_lexer": "ipython3",
   "version": "3.7.5"
  }
 },
 "nbformat": 4,
 "nbformat_minor": 2
}
