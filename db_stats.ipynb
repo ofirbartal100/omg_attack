{
 "cells": [
  {
   "cell_type": "code",
   "execution_count": 3,
   "metadata": {},
   "outputs": [],
   "source": [
    "import torch\n",
    "from tqdm import tqdm\n",
    "from torch.utils.data import DataLoader, Dataset, IterableDataset, SubsetRandomSampler,Sampler, Subset\n",
    "from dabs.src.datasets.catalog import DATASET_DICT\n",
    "data_root = '/disk2/ofirb/dabs/data'\n",
    "image_size = 32\n",
    "train_dataset = DATASET_DICT['lfw32'](base_root=data_root, train=True)\n",
    "val_dataset = DATASET_DICT['lfw32'](base_root=data_root, train=False)\n",
    "\n",
    "train_loader = DataLoader(train_dataset,batch_size=64,num_workers=0,shuffle=False,drop_last=True)\n",
    "val_loader = DataLoader(val_dataset,batch_size=64,num_workers=0,shuffle=False,drop_last=True)\n",
    "\n"
   ]
  },
  {
   "cell_type": "code",
   "execution_count": 6,
   "metadata": {},
   "outputs": [
    {
     "name": "stderr",
     "output_type": "stream",
     "text": [
      "100%|██████████| 186/186 [00:16<00:00, 11.26it/s]\n",
      "100%|██████████| 20/20 [00:01<00:00, 11.42it/s]\n"
     ]
    }
   ],
   "source": [
    "####### COMPUTE MEAN / STD\n",
    "\n",
    "# placeholders\n",
    "psum    = torch.tensor([0.0, 0.0, 0.0])\n",
    "psum_sq = torch.tensor([0.0, 0.0, 0.0])\n",
    "\n",
    "# loop through images\n",
    "for _, images , _ in tqdm(train_loader):\n",
    "    psum    += images.sum(axis        = [0, 2, 3])\n",
    "    psum_sq += (images ** 2).sum(axis = [0, 2, 3])\n",
    "\n",
    "# loop through images\n",
    "for _, images , _ in tqdm(val_loader):\n",
    "    psum    += images.sum(axis        = [0, 2, 3])\n",
    "    psum_sq += (images ** 2).sum(axis = [0, 2, 3])"
   ]
  },
  {
   "cell_type": "code",
   "execution_count": 7,
   "metadata": {},
   "outputs": [
    {
     "name": "stdout",
     "output_type": "stream",
     "text": [
      "mean: tensor([0.4321, 0.3748, 0.3333])\n",
      "std:  tensor([0.2819, 0.2563, 0.2500])\n"
     ]
    }
   ],
   "source": [
    "####### FINAL CALCULATIONS\n",
    "\n",
    "# pixel count\n",
    "count = (len(train_dataset)+len(val_dataset)) * image_size * image_size\n",
    "\n",
    "# mean and std\n",
    "total_mean = psum / count\n",
    "total_var  = (psum_sq / count) - (total_mean ** 2)\n",
    "total_std  = torch.sqrt(total_var)\n",
    "\n",
    "# output\n",
    "print('mean: '  + str(total_mean))\n",
    "print('std:  '  + str(total_std))"
   ]
  },
  {
   "cell_type": "code",
   "execution_count": null,
   "metadata": {},
   "outputs": [],
   "source": []
  }
 ],
 "metadata": {
  "kernelspec": {
   "display_name": "base",
   "language": "python",
   "name": "python3"
  },
  "language_info": {
   "codemirror_mode": {
    "name": "ipython",
    "version": 3
   },
   "file_extension": ".py",
   "mimetype": "text/x-python",
   "name": "python",
   "nbconvert_exporter": "python",
   "pygments_lexer": "ipython3",
   "version": "3.8.13 | packaged by conda-forge | (default, Mar 25 2022, 06:04:10) \n[GCC 10.3.0]"
  },
  "orig_nbformat": 4,
  "vscode": {
   "interpreter": {
    "hash": "d4d1e4263499bec80672ea0156c357c1ee493ec2b1c70f0acce89fc37c4a6abe"
   }
  }
 },
 "nbformat": 4,
 "nbformat_minor": 2
}
