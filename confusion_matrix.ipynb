{
 "cells": [
  {
   "cell_type": "code",
   "execution_count": 1,
   "metadata": {},
   "outputs": [],
   "source": [
    "import warnings\n",
    "warnings.filterwarnings(\"ignore\")\n",
    "\n",
    "import pytorch_lightning as pl\n",
    "from omegaconf import OmegaConf\n",
    "import torch\n",
    "from dabs.src.systems import viewmaker_original\n",
    "from tqdm import tqdm\n",
    "import os \n",
    "from torchvision.utils import save_image\n",
    "import torch.nn.functional as F\n",
    "import numpy as np\n",
    "import torchattacks as ta\n",
    "from torchvision import models, transforms\n",
    "import pandas as pd\n",
    "from torch import nn"
   ]
  },
  {
   "cell_type": "code",
   "execution_count": 2,
   "metadata": {},
   "outputs": [],
   "source": [
    "dataset = 'mnist'\n",
    "\n",
    "if dataset == 'traffic':\n",
    "    conf_yaml = '/workspace/dabs/conf/traffic.yaml'\n",
    "    conf_dataset_yaml = '/workspace/dabs/conf/dataset/traffic_sign_small.yaml'\n",
    "    conf_model_yaml = '/workspace/dabs/conf/model/traffic_model.yaml'\n",
    "    ckpt = '/workspace/dabs/exp/models/traffic_budget_budget=0.005/model.ckpt'\n",
    "    systemClass = viewmaker_original.TrafficViewMaker\n",
    "    batch_size = 32\n",
    "    \n",
    "\n",
    "elif dataset == 'lfw':\n",
    "    conf_yaml = '/workspace/dabs/conf/ceva.yaml'\n",
    "    conf_dataset_yaml = '/workspace/dabs/conf/dataset/lfw_112.yaml'\n",
    "    conf_model_yaml = '/workspace/dabs/conf/model/ceva_model.yaml'\n",
    "    ckpt = '/workspace/dabs/exp/models/traffic_budget_budget=0.005/model.ckpt'\n",
    "    systemClass = viewmaker_original.CevaViewmakerSystem\n",
    "    batch_size = 32\n",
    "    \n",
    "    root = '/workspace/dabs/data/adv_data/lfw/date/experiment_name/'+part\n",
    "\n",
    "    label_counters ={}\n",
    "\n",
    "    def save_func(original,views_similarities,label, class_names):\n",
    "        path = os.path.join(root, class_names[label])\n",
    "        if not os.path.exists(path):\n",
    "            os.makedirs(path)\n",
    "\n",
    "        if label in label_counters:\n",
    "            label_counters[label] += 1\n",
    "        else:\n",
    "            label_counters[label] = 0\n",
    "\n",
    "        save_image(original,f'{path}/{label_counters[label]:04d}_original.jpg')\n",
    "\n",
    "        for j in range(len(views_similarities)):\n",
    "            unnormalized_view, similarity = views_similarities[j]\n",
    "            save_image(unnormalized_view,f'{path}/{label_counters[label]:04d}_view_{j+1}_sim_{similarity:.3f}.jpg')\n",
    "\n",
    "elif dataset == 'birds':\n",
    "    conf_yaml = '/workspace/dabs/conf/birds.yaml'\n",
    "    conf_dataset_yaml = '/workspace/dabs/conf/dataset/cu_birds_small.yaml'\n",
    "    conf_model_yaml = '/workspace/dabs/conf/model/birds_model.yaml'\n",
    "    ckpt = '/workspace/dabs/exp/models/birds_dyn_sweep_budget=0.025/model.ckpt'\n",
    "    systemClass = viewmaker_original.BirdsViewMaker\n",
    "    batch_size = 12\n",
    "    \n",
    "elif dataset == 'mnist':\n",
    "    conf_yaml = '/workspace/dabs/conf/mnist.yaml'\n",
    "    conf_dataset_yaml = '/workspace/dabs/conf/dataset/mnist.yaml'\n",
    "    conf_model_yaml = '/workspace/dabs/conf/model/mnist_model.yaml'\n",
    "    ckpt = '/workspace/dabs/exp/models/mnist_sweep_2023-01-21_06:32:36/model.ckpt'\n",
    "    systemClass = viewmaker_original.MNISTViewMaker\n",
    "    batch_size = 256\n",
    "    \n"
   ]
  },
  {
   "cell_type": "code",
   "execution_count": 3,
   "metadata": {},
   "outputs": [],
   "source": []
  },
  {
   "cell_type": "code",
   "execution_count": 3,
   "metadata": {},
   "outputs": [
    {
     "name": "stderr",
     "output_type": "stream",
     "text": [
      "Global seed set to 0\n"
     ]
    },
    {
     "name": "stdout",
     "output_type": "stream",
     "text": [
      "loading config...\n",
      "loading VM...\n"
     ]
    },
    {
     "data": {
      "text/plain": [
       "MNISTViewMaker(\n",
       "  (model): MnistModel(\n",
       "    (embed_modules): ModuleList()\n",
       "    (mnist_model): MnistNet(\n",
       "      (conv1): Conv2d(1, 32, kernel_size=(3, 3), stride=(1, 1))\n",
       "      (conv2): Conv2d(32, 64, kernel_size=(3, 3), stride=(1, 1))\n",
       "      (dropout1): Dropout(p=0.25, inplace=False)\n",
       "      (dropout2): Dropout(p=0.5, inplace=False)\n",
       "      (fc1): Linear(in_features=9216, out_features=128, bias=True)\n",
       "      (fc2): Linear(in_features=128, out_features=10, bias=True)\n",
       "    )\n",
       "  )\n",
       "  (viewmaker): Viewmaker(\n",
       "    (act): ReLU()\n",
       "    (conv1): ConvLayer(\n",
       "      (reflection_pad): ReflectionPad2d((4, 4, 4, 4))\n",
       "      (conv2d): Conv2d(2, 32, kernel_size=(9, 9), stride=(1, 1))\n",
       "    )\n",
       "    (in1): InstanceNorm2d(32, eps=1e-05, momentum=0.1, affine=True, track_running_stats=False)\n",
       "    (conv2): ConvLayer(\n",
       "      (reflection_pad): ReflectionPad2d((1, 1, 1, 1))\n",
       "      (conv2d): Conv2d(32, 64, kernel_size=(3, 3), stride=(2, 2))\n",
       "    )\n",
       "    (in2): InstanceNorm2d(64, eps=1e-05, momentum=0.1, affine=True, track_running_stats=False)\n",
       "    (conv3): ConvLayer(\n",
       "      (reflection_pad): ReflectionPad2d((1, 1, 1, 1))\n",
       "      (conv2d): Conv2d(64, 128, kernel_size=(3, 3), stride=(2, 2))\n",
       "    )\n",
       "    (in3): InstanceNorm2d(128, eps=1e-05, momentum=0.1, affine=True, track_running_stats=False)\n",
       "    (res1): ResidualBlock(\n",
       "      (conv1): ConvLayer(\n",
       "        (reflection_pad): ReflectionPad2d((1, 1, 1, 1))\n",
       "        (conv2d): Conv2d(129, 129, kernel_size=(3, 3), stride=(1, 1))\n",
       "      )\n",
       "      (in1): InstanceNorm2d(129, eps=1e-05, momentum=0.1, affine=True, track_running_stats=False)\n",
       "      (conv2): ConvLayer(\n",
       "        (reflection_pad): ReflectionPad2d((1, 1, 1, 1))\n",
       "        (conv2d): Conv2d(129, 129, kernel_size=(3, 3), stride=(1, 1))\n",
       "      )\n",
       "      (in2): InstanceNorm2d(129, eps=1e-05, momentum=0.1, affine=True, track_running_stats=False)\n",
       "      (act): ReLU()\n",
       "    )\n",
       "    (res2): ResidualBlock(\n",
       "      (conv1): ConvLayer(\n",
       "        (reflection_pad): ReflectionPad2d((1, 1, 1, 1))\n",
       "        (conv2d): Conv2d(130, 130, kernel_size=(3, 3), stride=(1, 1))\n",
       "      )\n",
       "      (in1): InstanceNorm2d(130, eps=1e-05, momentum=0.1, affine=True, track_running_stats=False)\n",
       "      (conv2): ConvLayer(\n",
       "        (reflection_pad): ReflectionPad2d((1, 1, 1, 1))\n",
       "        (conv2d): Conv2d(130, 130, kernel_size=(3, 3), stride=(1, 1))\n",
       "      )\n",
       "      (in2): InstanceNorm2d(130, eps=1e-05, momentum=0.1, affine=True, track_running_stats=False)\n",
       "      (act): ReLU()\n",
       "    )\n",
       "    (res3): ResidualBlock(\n",
       "      (conv1): ConvLayer(\n",
       "        (reflection_pad): ReflectionPad2d((1, 1, 1, 1))\n",
       "        (conv2d): Conv2d(131, 131, kernel_size=(3, 3), stride=(1, 1))\n",
       "      )\n",
       "      (in1): InstanceNorm2d(131, eps=1e-05, momentum=0.1, affine=True, track_running_stats=False)\n",
       "      (conv2): ConvLayer(\n",
       "        (reflection_pad): ReflectionPad2d((1, 1, 1, 1))\n",
       "        (conv2d): Conv2d(131, 131, kernel_size=(3, 3), stride=(1, 1))\n",
       "      )\n",
       "      (in2): InstanceNorm2d(131, eps=1e-05, momentum=0.1, affine=True, track_running_stats=False)\n",
       "      (act): ReLU()\n",
       "    )\n",
       "    (res4): ResidualBlock(\n",
       "      (conv1): ConvLayer(\n",
       "        (reflection_pad): ReflectionPad2d((1, 1, 1, 1))\n",
       "        (conv2d): Conv2d(132, 132, kernel_size=(3, 3), stride=(1, 1))\n",
       "      )\n",
       "      (in1): InstanceNorm2d(132, eps=1e-05, momentum=0.1, affine=True, track_running_stats=False)\n",
       "      (conv2): ConvLayer(\n",
       "        (reflection_pad): ReflectionPad2d((1, 1, 1, 1))\n",
       "        (conv2d): Conv2d(132, 132, kernel_size=(3, 3), stride=(1, 1))\n",
       "      )\n",
       "      (in2): InstanceNorm2d(132, eps=1e-05, momentum=0.1, affine=True, track_running_stats=False)\n",
       "      (act): ReLU()\n",
       "    )\n",
       "    (res5): ResidualBlock(\n",
       "      (conv1): ConvLayer(\n",
       "        (reflection_pad): ReflectionPad2d((1, 1, 1, 1))\n",
       "        (conv2d): Conv2d(133, 133, kernel_size=(3, 3), stride=(1, 1))\n",
       "      )\n",
       "      (in1): InstanceNorm2d(133, eps=1e-05, momentum=0.1, affine=True, track_running_stats=False)\n",
       "      (conv2): ConvLayer(\n",
       "        (reflection_pad): ReflectionPad2d((1, 1, 1, 1))\n",
       "        (conv2d): Conv2d(133, 133, kernel_size=(3, 3), stride=(1, 1))\n",
       "      )\n",
       "      (in2): InstanceNorm2d(133, eps=1e-05, momentum=0.1, affine=True, track_running_stats=False)\n",
       "      (act): ReLU()\n",
       "    )\n",
       "    (deconv1): UpsampleConvLayer(\n",
       "      (reflection_pad): ReflectionPad2d((1, 1, 1, 1))\n",
       "      (conv2d): Conv2d(131, 64, kernel_size=(3, 3), stride=(1, 1))\n",
       "    )\n",
       "    (in4): InstanceNorm2d(64, eps=1e-05, momentum=0.1, affine=True, track_running_stats=False)\n",
       "    (deconv2): UpsampleConvLayer(\n",
       "      (reflection_pad): ReflectionPad2d((1, 1, 1, 1))\n",
       "      (conv2d): Conv2d(64, 32, kernel_size=(3, 3), stride=(1, 1))\n",
       "    )\n",
       "    (in5): InstanceNorm2d(32, eps=1e-05, momentum=0.1, affine=True, track_running_stats=False)\n",
       "    (deconv3): ConvLayer(\n",
       "      (reflection_pad): ReflectionPad2d((4, 4, 4, 4))\n",
       "      (conv2d): Conv2d(32, 1, kernel_size=(9, 9), stride=(1, 1))\n",
       "    )\n",
       "  )\n",
       "  (memory_bank): MemoryBank()\n",
       "  (memory_bank_labels): MemoryBank()\n",
       "  (disc): TinyP2PDiscriminator(\n",
       "    (conv_block1): DescConvBlock(\n",
       "      (conv1): Conv2d(1, 64, kernel_size=(3, 3), stride=(2, 2), padding=(1, 1))\n",
       "      (batch_norm): Identity()\n",
       "      (dropout): Dropout(p=0.25, inplace=False)\n",
       "    )\n",
       "    (conv_block2): DescConvBlock(\n",
       "      (conv1): Conv2d(64, 128, kernel_size=(3, 3), stride=(1, 1), padding=(1, 1))\n",
       "      (batch_norm): BatchNorm2d(128, eps=1e-05, momentum=0.8, affine=True, track_running_stats=True)\n",
       "      (dropout): Dropout(p=0.25, inplace=False)\n",
       "    )\n",
       "    (conv_block3): DescConvBlock(\n",
       "      (conv1): Conv2d(128, 256, kernel_size=(3, 3), stride=(1, 1), padding=(1, 1))\n",
       "      (batch_norm): BatchNorm2d(256, eps=1e-05, momentum=0.8, affine=True, track_running_stats=True)\n",
       "      (dropout): Dropout(p=0.25, inplace=False)\n",
       "    )\n",
       "    (conv_block4): DescConvBlock(\n",
       "      (conv1): Conv2d(256, 512, kernel_size=(3, 3), stride=(1, 1), padding=(1, 1))\n",
       "      (batch_norm): BatchNorm2d(512, eps=1e-05, momentum=0.8, affine=True, track_running_stats=True)\n",
       "      (dropout): Dropout(p=0.25, inplace=False)\n",
       "    )\n",
       "    (final_conv): Conv2d(512, 1, kernel_size=(3, 3), stride=(1, 1), padding=(1, 1))\n",
       "  )\n",
       ")"
      ]
     },
     "execution_count": 3,
     "metadata": {},
     "output_type": "execute_result"
    }
   ],
   "source": [
    "print('loading config...')\n",
    "config = OmegaConf.load(conf_yaml)\n",
    "config.dataset = OmegaConf.load(conf_dataset_yaml)\n",
    "config.model = OmegaConf.load(conf_model_yaml)\n",
    "config.dataset.batch_size = batch_size\n",
    "config.debug = True\n",
    "pl.seed_everything(config.trainer.seed)\n",
    "\n",
    "print('loading VM...')\n",
    "system = torch.load(ckpt)\n",
    "system.cuda()\n",
    "system.eval()\n",
    "\n",
    "\n"
   ]
  },
  {
   "cell_type": "code",
   "execution_count": 4,
   "metadata": {},
   "outputs": [],
   "source": [
    "from types import MethodType\n",
    "if dataset == 'traffic':\n",
    "    def forward_original(self, x):\n",
    "        # transform the input\n",
    "        x = self.stn(x)\n",
    "\n",
    "        # Perform forward pass\n",
    "        x = self.bn1(F.max_pool2d(F.leaky_relu(self.conv1(x)),2))\n",
    "        x = self.conv_drop(x)\n",
    "        x = self.bn2(F.max_pool2d(F.leaky_relu(self.conv2(x)),2))\n",
    "        x = self.conv_drop(x)\n",
    "        x = self.bn3(F.max_pool2d(F.leaky_relu(self.conv3(x)),2))\n",
    "        x = self.conv_drop(x)\n",
    "        x = x.view(-1, 250*2*2)\n",
    "        x = F.relu(self.fc1(x))\n",
    "        x = F.dropout(x, training=self.training)\n",
    "        x = self.fc2(x)\n",
    "        return F.log_softmax(x, dim=1)\n",
    "\n",
    "    system.model.traffic_model.forward = MethodType(forward_original, system.model.traffic_model)\n",
    "    threat_model  = system.model.traffic_model\n",
    "    MEAN,STD = np.array([0.3337, 0.3064, 0.3171],dtype=np.float32), np.array([ 0.2672, 0.2564, 0.2629],dtype=np.float32)\n",
    "    defense_path = '/workspace/gtsrb_pytorch/model_defended.pth' # FGSM e=0.005\n",
    "\n",
    "elif dataset == 'birds':\n",
    "    def new_forward(self, x):\n",
    "        x = self.conv1(x)\n",
    "        x = self.bn1(x)\n",
    "        x = self.relu(x)\n",
    "        x = self.maxpool(x)\n",
    "\n",
    "        x = self.layer1(x)\n",
    "        x = self.layer2(x)\n",
    "        x = self.layer3(x)\n",
    "        x = self.layer4(x)\n",
    "        \n",
    "        x = self.avgpool(x)\n",
    "        h = x.view(x.shape[0], -1)\n",
    "        x = self.fc(h)\n",
    "        return F.softmax(x, dim = -1)\n",
    "\n",
    "    system.model.birds_model.forward = MethodType(new_forward, system.model.birds_model)\n",
    "    threat_model  = system.model.birds_model\n",
    "    MEAN = [0.483, 0.491, 0.424]\n",
    "    STD  = [0.228, 0.224, 0.259]\n",
    "    defense_path = '/workspace/cubirds/resnet18-adv.pt' # FGSM e=0.025\n",
    "\n",
    "       \n",
    "\n",
    "elif dataset == 'mnist':\n",
    "    def new_forward(self, x):\n",
    "        x = self.conv1(x)\n",
    "        x = F.relu(x)\n",
    "        x = self.conv2(x)\n",
    "        x = F.relu(x)\n",
    "        x = F.max_pool2d(x, 2)\n",
    "        x = self.dropout1(x)\n",
    "        x = torch.flatten(x, 1)\n",
    "        x = self.fc1(x)\n",
    "        x = F.relu(x)\n",
    "        y = self.dropout2(x)\n",
    "        x = self.fc2(y)\n",
    "        output = F.log_softmax(x, dim=1)\n",
    "        return output\n",
    "\n",
    "    system.model.mnist_model.forward = MethodType(new_forward, system.model.mnist_model)\n",
    "    threat_model  = system.model.mnist_model\n",
    "\n",
    "    # threat_model = models.resnet18(pretrained=False)\n",
    "    # threat_model.conv1 = nn.Conv2d(1, 64, kernel_size=(7, 7), stride=(2, 2), padding=(3, 3), bias=False) \n",
    "    # num_ftrs = threat_model.fc.in_features\n",
    "    # threat_model.fc = nn.Linear(num_ftrs, 10)\n",
    "    # threat_model.load_state_dict(torch.load('/workspace/MNIST/mnist_res18.pt'))\n",
    "    # threat_model.eval().cuda()\n",
    "\n",
    "    defense_path = '/workspace/MNIST/mnist_defense.pt' # FGSM e=0.3\n",
    "    MEAN = [0.1307]\n",
    "    STD  = [0.3081]\n",
    "    "
   ]
  },
  {
   "attachments": {},
   "cell_type": "markdown",
   "metadata": {},
   "source": [
    "### advGAN inference"
   ]
  },
  {
   "cell_type": "code",
   "execution_count": 9,
   "metadata": {},
   "outputs": [
    {
     "data": {
      "text/plain": [
       "Generator_MNIST(\n",
       "  (conv1): Conv2d(1, 8, kernel_size=(3, 3), stride=(1, 1), padding=(1, 1))\n",
       "  (in1): InstanceNorm2d(8, eps=1e-05, momentum=0.1, affine=False, track_running_stats=False)\n",
       "  (conv2): Conv2d(8, 16, kernel_size=(3, 3), stride=(2, 2), padding=(1, 1))\n",
       "  (in2): InstanceNorm2d(16, eps=1e-05, momentum=0.1, affine=False, track_running_stats=False)\n",
       "  (conv3): Conv2d(16, 32, kernel_size=(3, 3), stride=(2, 2), padding=(1, 1))\n",
       "  (in3): InstanceNorm2d(32, eps=1e-05, momentum=0.1, affine=False, track_running_stats=False)\n",
       "  (resblock1): ResidualBlock(\n",
       "    (conv1): Conv2d(32, 32, kernel_size=(3, 3), stride=(1, 1), padding=(1, 1))\n",
       "    (in1): InstanceNorm2d(32, eps=1e-05, momentum=0.1, affine=True, track_running_stats=False)\n",
       "    (conv2): Conv2d(32, 32, kernel_size=(3, 3), stride=(1, 1), padding=(1, 1))\n",
       "    (in2): InstanceNorm2d(32, eps=1e-05, momentum=0.1, affine=True, track_running_stats=False)\n",
       "    (relu): ReLU(inplace=True)\n",
       "  )\n",
       "  (resblock2): ResidualBlock(\n",
       "    (conv1): Conv2d(32, 32, kernel_size=(3, 3), stride=(1, 1), padding=(1, 1))\n",
       "    (in1): InstanceNorm2d(32, eps=1e-05, momentum=0.1, affine=True, track_running_stats=False)\n",
       "    (conv2): Conv2d(32, 32, kernel_size=(3, 3), stride=(1, 1), padding=(1, 1))\n",
       "    (in2): InstanceNorm2d(32, eps=1e-05, momentum=0.1, affine=True, track_running_stats=False)\n",
       "    (relu): ReLU(inplace=True)\n",
       "  )\n",
       "  (resblock3): ResidualBlock(\n",
       "    (conv1): Conv2d(32, 32, kernel_size=(3, 3), stride=(1, 1), padding=(1, 1))\n",
       "    (in1): InstanceNorm2d(32, eps=1e-05, momentum=0.1, affine=True, track_running_stats=False)\n",
       "    (conv2): Conv2d(32, 32, kernel_size=(3, 3), stride=(1, 1), padding=(1, 1))\n",
       "    (in2): InstanceNorm2d(32, eps=1e-05, momentum=0.1, affine=True, track_running_stats=False)\n",
       "    (relu): ReLU(inplace=True)\n",
       "  )\n",
       "  (resblock4): ResidualBlock(\n",
       "    (conv1): Conv2d(32, 32, kernel_size=(3, 3), stride=(1, 1), padding=(1, 1))\n",
       "    (in1): InstanceNorm2d(32, eps=1e-05, momentum=0.1, affine=True, track_running_stats=False)\n",
       "    (conv2): Conv2d(32, 32, kernel_size=(3, 3), stride=(1, 1), padding=(1, 1))\n",
       "    (in2): InstanceNorm2d(32, eps=1e-05, momentum=0.1, affine=True, track_running_stats=False)\n",
       "    (relu): ReLU(inplace=True)\n",
       "  )\n",
       "  (up1): UpsampleConvLayer(\n",
       "    (upsample_layer): Upsample(scale_factor=2.0, mode=nearest)\n",
       "    (conv2d): Conv2d(32, 16, kernel_size=(3, 3), stride=(1, 1), padding=(1, 1))\n",
       "  )\n",
       "  (in4): InstanceNorm2d(16, eps=1e-05, momentum=0.1, affine=False, track_running_stats=False)\n",
       "  (up2): UpsampleConvLayer(\n",
       "    (upsample_layer): Upsample(scale_factor=2.0, mode=nearest)\n",
       "    (conv2d): Conv2d(16, 8, kernel_size=(3, 3), stride=(1, 1), padding=(1, 1))\n",
       "  )\n",
       "  (in5): InstanceNorm2d(8, eps=1e-05, momentum=0.1, affine=False, track_running_stats=False)\n",
       "  (conv4): Conv2d(8, 1, kernel_size=(3, 3), stride=(1, 1), padding=(1, 1))\n",
       "  (in6): InstanceNorm2d(8, eps=1e-05, momentum=0.1, affine=False, track_running_stats=False)\n",
       ")"
      ]
     },
     "execution_count": 9,
     "metadata": {},
     "output_type": "execute_result"
    }
   ],
   "source": [
    "# load target_model\n",
    "from adversarial_examples_pytorch.adv_gan import target_models\n",
    "model_name = 'Model_C'\n",
    "thres=0.3\n",
    "f = getattr(target_models, model_name)(1, 10)\n",
    "checkpoint_path_f = os.path.join('/workspace/adversarial_examples_pytorch/adv_gan/saved', 'target_models', 'best_%s_mnist.pth.tar'%(model_name))\n",
    "checkpoint_f = torch.load(checkpoint_path_f, map_location='cpu')\n",
    "f.load_state_dict(checkpoint_f[\"state_dict\"])\n",
    "f.eval()\n",
    "f.cuda()\n",
    "from adversarial_examples_pytorch.adv_gan.generators import Generator_MNIST as Generator\n",
    "# load corresponding generator\n",
    "G = Generator()\n",
    "checkpoint_name_G = '%s_untargeted.pth.tar'%(model_name)\n",
    "checkpoint_path_G = os.path.join('/workspace/adversarial_examples_pytorch/adv_gan/saved', 'generators', 'bound_%.1f'%(thres), checkpoint_name_G)\n",
    "checkpoint_G = torch.load(checkpoint_path_G, map_location='cpu')\n",
    "G.load_state_dict(checkpoint_G['state_dict'])\n",
    "G.eval()\n",
    "G.cuda()\n"
   ]
  },
  {
   "cell_type": "code",
   "execution_count": 6,
   "metadata": {},
   "outputs": [],
   "source": [
    "import copy\n",
    "defense = 'no'\n",
    "# defense = 'defended'\n",
    "if defense == \"defended\":\n",
    "    defended = copy.deepcopy(threat_model)\n",
    "    defended.load_state_dict(torch.load(defense_path))\n",
    "    defended.eval()\n",
    "    test_model = defended\n",
    "else:\n",
    "    test_model = threat_model"
   ]
  },
  {
   "cell_type": "code",
   "execution_count": 7,
   "metadata": {},
   "outputs": [
    {
     "name": "stderr",
     "output_type": "stream",
     "text": [
      "Global seed set to 123654\n",
      "100%|██████████| 234/234 [00:11<00:00, 20.76it/s]\n",
      "100%|██████████| 39/39 [00:01<00:00, 26.82it/s]\n"
     ]
    }
   ],
   "source": [
    "run='vm'\n",
    "# run='advgan'\n",
    "pl.seed_everything(123654)\n",
    "\n",
    "\n",
    "df_dict = {\n",
    "    \"label\" : [],\n",
    "    \"pred\" : [],\n",
    "    \"adv_pred\": []\n",
    "}\n",
    "num_views = 3\n",
    "\n",
    "loaders = [system.train_dataloader(), system.val_dataloader()]\n",
    "\n",
    "if run=='vm':\n",
    "    # VM\n",
    "    for loader in loaders:\n",
    "        for index , img , labels in tqdm(loader):\n",
    "            with torch.no_grad():\n",
    "                img = img.cuda()\n",
    "                for i in range(num_views):\n",
    "                    views1, _ = system.view(img, True)\n",
    "                    pred = test_model(system.normalize(img)).argmax(1, keepdim = True)\n",
    "                    adv_pred = test_model(views1).argmax(1, keepdim = True)\n",
    "\n",
    "                    df_dict['label'].append(labels.unsqueeze(-1).cpu())\n",
    "                    df_dict['pred'].append(pred.cpu())\n",
    "                    df_dict['adv_pred'].append(adv_pred.cpu())\n",
    "if run=='advgan':\n",
    "    # VM\n",
    "    for loader in loaders:\n",
    "        for index , img , labels in tqdm(loader):\n",
    "            with torch.no_grad():\n",
    "                img = img.cuda()\n",
    "                for i in range(num_views):\n",
    "                    # load img and preprocess as required by f and G\n",
    "                    x = img\n",
    "                    pert = G(x).data.clamp(min=-thres, max=thres)\n",
    "                    x_adv = x + pert #*0.3/pert.abs().mean() # L1 normalize (after L_inf ?)\n",
    "                    x_adv = x_adv.clamp(min=0, max=1)\n",
    "                    views1 = system.normalize(x_adv)\n",
    "\n",
    "                    pred = test_model(system.normalize(img)).argmax(1, keepdim = True)\n",
    "                    adv_pred = test_model(views1).argmax(1, keepdim = True)\n",
    "\n",
    "                    df_dict['label'].append(labels.unsqueeze(-1).cpu())\n",
    "                    df_dict['pred'].append(pred.cpu())\n",
    "                    df_dict['adv_pred'].append(adv_pred.cpu())\n",
    "\n",
    "elif run=='adv':\n",
    "    # FGSM\n",
    "    num_views = 1\n",
    "    atk = ta.FGSM(threat_model, eps=0.005)\n",
    "    # atk = ta.PGD(threat_model, eps=0.035, alpha=0.035/8, steps=10)\n",
    "    \n",
    "    atk.set_normalization_used(mean=MEAN, std=STD)\n",
    "    for loader in loaders:\n",
    "        for index , img , labels in tqdm(loader):\n",
    "            # with torch.no_grad():\n",
    "            img = img.cuda()\n",
    "            for i in range(num_views):\n",
    "                # views1, _ = system.view(img, True)\n",
    "                views1 = atk(system.normalize(img),labels)\n",
    "                pred = test_model(system.normalize(img)).argmax(1, keepdim = True)\n",
    "                adv_pred = test_model(views1).argmax(1, keepdim = True)\n",
    "\n",
    "                df_dict['label'].append(labels.unsqueeze(-1).cpu())\n",
    "                df_dict['pred'].append(pred.cpu())\n",
    "                df_dict['adv_pred'].append(adv_pred.cpu())\n",
    "\n",
    "\n",
    "df_dict['label'] = torch.vstack(df_dict['label']).squeeze().numpy()\n",
    "df_dict['pred'] = torch.vstack(df_dict['pred']).squeeze().numpy()\n",
    "df_dict['adv_pred'] = torch.vstack(df_dict['adv_pred']).squeeze().numpy()\n",
    "\n",
    "df = pd.DataFrame.from_dict(df_dict)\n"
   ]
  },
  {
   "cell_type": "code",
   "execution_count": 8,
   "metadata": {},
   "outputs": [],
   "source": [
    "acc = (df['pred'] == df['adv_pred']).mean()\n",
    "# adv_acc_0_001 = (df['pred'] == df['adv_pred']).mean()\n",
    "# adv_acc_0_005 = (df['pred'] == df['adv_pred']).mean()\n",
    "# adv_acc_0_035 = (df['pred'] == df['adv_pred']).mean()"
   ]
  },
  {
   "cell_type": "code",
   "execution_count": 7,
   "metadata": {},
   "outputs": [],
   "source": [
    "from sklearn.metrics import confusion_matrix\n",
    "cf_matrix = confusion_matrix(df['pred'], df['adv_pred'], normalize='true')"
   ]
  },
  {
   "cell_type": "code",
   "execution_count": 57,
   "metadata": {},
   "outputs": [],
   "source": [
    "# cf_matrix_0_035 = cf_matrix\n",
    "# cf_matrix_0_005 = cf_matrix\n",
    "cf_matrix_0_001 = cf_matrix"
   ]
  },
  {
   "cell_type": "code",
   "execution_count": 8,
   "metadata": {},
   "outputs": [
    {
     "data": {
      "image/png": "[encoded data removed]",
      "text/plain": [
       "<Figure size 360x360 with 1 Axes>"
      ]
     },
     "metadata": {
      "needs_background": "light"
     },
     "output_type": "display_data"
    }
   ],
   "source": [
    "\n",
    "import seaborn as sns\n",
    "import matplotlib.pyplot as plt\n",
    "\n",
    "plt.figure(figsize=(5,5))\n",
    "# sns.heatmap(cf_matrix, annot=True, fmt='.2f')\n",
    "sns.heatmap(cf_matrix,cbar=False)#, annot=True, fmt='.2f')\n",
    "plt.title(f'budget=0.3 ; ASR={(1-acc)*100:.1f}%')\n",
    "plt.show()"
   ]
  },
  {
   "cell_type": "code",
   "execution_count": 30,
   "metadata": {},
   "outputs": [
    {
     "data": {
      "image/png": "[encoded data removed]",
      "text/plain": [
       "<Figure size 1080x360 with 3 Axes>"
      ]
     },
     "metadata": {
      "needs_background": "light"
     },
     "output_type": "display_data"
    }
   ],
   "source": [
    "fig,ax = plt.subplots(1,3,figsize=(15,5))\n",
    "# sns.heatmap(cf_matrix, annot=True, fmt='.2f')\n",
    "sns.heatmap(cf_matrix_0_001,cbar=False,ax=ax[0])#, annot=True, fmt='.2f')\n",
    "ax[0].set_title(f'budget=0.001 ; ASR={(1-adv_acc_0_001)*100:.1f}%')\n",
    "sns.heatmap(cf_matrix_0_005,cbar=False,ax=ax[1])#, annot=True, fmt='.2f')\n",
    "ax[1].set_title(f'budget=0.005 ; ASR={(1-adv_acc_0_005)*100:.1f}%')\n",
    "sns.heatmap(cf_matrix_0_035,cbar=False,ax=ax[2])#, annot=True, fmt='.2f')\n",
    "ax[2].set_title(f'budget=0.035 ; ASR={(1-adv_acc_0_035)*100:.1f}%')\n",
    "plt.show()"
   ]
  },
  {
   "cell_type": "code",
   "execution_count": 38,
   "metadata": {},
   "outputs": [
    {
     "name": "stderr",
     "output_type": "stream",
     "text": [
      "Global seed set to 0\n"
     ]
    },
    {
     "name": "stdout",
     "output_type": "stream",
     "text": [
      "loading config...\n",
      "loading VM...\n"
     ]
    },
    {
     "name": "stderr",
     "output_type": "stream",
     "text": [
      "Global seed set to 123654\n",
      "  0%|          | 0/234 [00:00<?, ?it/s]\n",
      " 31%|███       | 12/39 [00:00<00:01, 15.67it/s]\n"
     ]
    }
   ],
   "source": [
    "\n",
    "# if dataset == 'mnist80%':\n",
    "mnist80_conf_yaml = '/workspace/dabs/conf/mnist.yaml'\n",
    "mnist80_conf_dataset_yaml = '/workspace/dabs/conf/dataset/mnist.yaml'\n",
    "mnist80_conf_model_yaml = '/workspace/dabs/conf/model/mnist_model.yaml'\n",
    "mnist80_ckpt = '/workspace/dabs/exp/models/mnist_80%_2023-01-22_12:05:47/model.ckpt'\n",
    "mnist80_systemClass = viewmaker_original.MNISTViewMaker\n",
    "mnist80_batch_size = 256\n",
    "print('loading config...')\n",
    "mnist80_config = OmegaConf.load(mnist80_conf_yaml)\n",
    "mnist80_config.dataset = OmegaConf.load(mnist80_conf_dataset_yaml)\n",
    "mnist80_config.model = OmegaConf.load(mnist80_conf_model_yaml)\n",
    "mnist80_config.dataset.batch_size = mnist80_batch_size\n",
    "mnist80_config.debug = True\n",
    "pl.seed_everything(mnist80_config.trainer.seed)\n",
    "\n",
    "print('loading VM...')\n",
    "mnist80_system = torch.load(mnist80_ckpt)\n",
    "mnist80_system.cuda()\n",
    "mnist80_system.eval()\n",
    "\n",
    "from MNIST.example import Model_C\n",
    "mnist80_test_model = Model_C(1,10)\n",
    "mnist80_test_model.load_state_dict(torch.load('/workspace/MNIST/model_c_not_normalized.pt'))\n",
    "mnist80_test_model.eval().cuda()\n",
    "\n",
    "run='vm'\n",
    "pl.seed_everything(123654)\n",
    "\n",
    "\n",
    "df_dict = {\n",
    "    \"label\" : [],\n",
    "    \"pred\" : [],\n",
    "    \"adv_pred\": []\n",
    "}\n",
    "num_views = 3\n",
    "\n",
    "loaders = [system.train_dataloader(), system.val_dataloader()]\n",
    "\n",
    "if run=='vm':\n",
    "    # VM\n",
    "    for loader in loaders:\n",
    "        for index , img , labels in tqdm(loader):\n",
    "            with torch.no_grad():\n",
    "                img = img.cuda()\n",
    "                for i in range(num_views):\n",
    "                    views1, _ = mnist80_system.view(img, True)\n",
    "                    pred = mnist80_test_model(system.normalize(img)).argmax(1, keepdim = True)\n",
    "                    adv_pred = mnist80_test_model(views1).argmax(1, keepdim = True)\n",
    "\n",
    "                    df_dict['label'].append(labels.unsqueeze(-1).cpu())\n",
    "                    df_dict['pred'].append(pred.cpu())\n",
    "                    df_dict['adv_pred'].append(adv_pred.cpu())\n",
    "                if (labels==0).sum()>0:\n",
    "                    break\n",
    "\n",
    "\n",
    "\n",
    "df_dict['label'] = torch.vstack(df_dict['label']).squeeze().numpy()\n",
    "df_dict['pred'] = torch.vstack(df_dict['pred']).squeeze().numpy()\n",
    "df_dict['adv_pred'] = torch.vstack(df_dict['adv_pred']).squeeze().numpy()\n",
    "\n",
    "df = pd.DataFrame.from_dict(df_dict)\n"
   ]
  },
  {
   "cell_type": "code",
   "execution_count": 9,
   "metadata": {},
   "outputs": [
    {
     "data": {
      "image/png": "[encoded data removed]",
      "text/plain": [
       "<Figure size 360x360 with 1 Axes>"
      ]
     },
     "metadata": {
      "needs_background": "light"
     },
     "output_type": "display_data"
    }
   ],
   "source": [
    "acc = (df['pred'] == df['adv_pred']).mean()\n",
    "cf_matrix = confusion_matrix(df['pred'], df['adv_pred'], normalize='true')\n",
    "plt.figure(figsize=(5,5))\n",
    "sns.heatmap(cf_matrix,cbar=False)#, annot=True, fmt='.2f')\n",
    "plt.title(f'mnist 80% budget=0.3 ; ASR={(1-acc)*100:.1f}%')\n",
    "plt.show()"
   ]
  },
  {
   "cell_type": "code",
   "execution_count": 45,
   "metadata": {},
   "outputs": [
    {
     "data": {
      "text/plain": [
       "tensor(0.0622, device='cuda:0')"
      ]
     },
     "execution_count": 45,
     "metadata": {},
     "output_type": "execute_result"
    }
   ],
   "source": [
    "(views1[i]-img[i]).abs().mean()"
   ]
  },
  {
   "cell_type": "code",
   "execution_count": 44,
   "metadata": {},
   "outputs": [
    {
     "data": {
      "image/png": "[encoded data removed]",
      "text/plain": [
       "<Figure size 1080x360 with 3 Axes>"
      ]
     },
     "metadata": {
      "needs_background": "light"
     },
     "output_type": "display_data"
    }
   ],
   "source": [
    "i=160\n",
    "fig,ax = plt.subplots(1,3,figsize=(15,5))\n",
    "# sns.heatmap(cf_matrix, annot=True, fmt='.2f')\n",
    "ax[0].imshow(img[i].cpu().detach().squeeze())\n",
    "ax[1].imshow(views1[i].cpu().detach().squeeze())\n",
    "ax[2].imshow((views1[i]-img[i]).cpu().detach().squeeze())\n",
    "plt.show()"
   ]
  },
  {
   "cell_type": "code",
   "execution_count": 10,
   "metadata": {},
   "outputs": [],
   "source": [
    "acc_0 = (df[df['label']==0]['pred'] == df[df['label']==0]['adv_pred']).mean()\n",
    "acc_5 = (df[df['label']==5]['pred'] == df[df['label']==5]['adv_pred']).mean()\n",
    "acc_other = (df[(df['label']!=5) | (df['label']!=0)]['pred'] == df[(df['label']!=5) | (df['label']!=0)]['adv_pred']).mean()"
   ]
  },
  {
   "cell_type": "code",
   "execution_count": 11,
   "metadata": {},
   "outputs": [
    {
     "data": {
      "text/plain": [
       "(0.4131884057971015, 0.5213824494548533, 0.7711385836385837)"
      ]
     },
     "execution_count": 11,
     "metadata": {},
     "output_type": "execute_result"
    }
   ],
   "source": [
    "1-acc_0,1-acc_5,1-acc_other"
   ]
  },
  {
   "cell_type": "code",
   "execution_count": 12,
   "metadata": {},
   "outputs": [
    {
     "data": {
      "text/plain": [
       "0.4672854276259774"
      ]
     },
     "execution_count": 12,
     "metadata": {},
     "output_type": "execute_result"
    }
   ],
   "source": [
    "((1-acc_0)+(1-acc_5))*0.5"
   ]
  },
  {
   "cell_type": "code",
   "execution_count": 23,
   "metadata": {},
   "outputs": [
    {
     "data": {
      "text/plain": [
       "Model_C(\n",
       "  (conv1_1): Conv2d(1, 32, kernel_size=(3, 3), stride=(1, 1), padding=(1, 1))\n",
       "  (conv1_2): Conv2d(32, 32, kernel_size=(3, 3), stride=(1, 1), padding=(1, 1))\n",
       "  (maxpool1): MaxPool2d(kernel_size=2, stride=2, padding=0, dilation=1, ceil_mode=False)\n",
       "  (conv2_1): Conv2d(32, 64, kernel_size=(3, 3), stride=(1, 1), padding=(1, 1))\n",
       "  (conv2_2): Conv2d(64, 64, kernel_size=(3, 3), stride=(1, 1), padding=(1, 1))\n",
       "  (maxpool2): MaxPool2d(kernel_size=2, stride=2, padding=0, dilation=1, ceil_mode=False)\n",
       "  (fc1): Linear(in_features=3136, out_features=200, bias=True)\n",
       "  (fc2): Linear(in_features=200, out_features=10, bias=True)\n",
       ")"
      ]
     },
     "execution_count": 23,
     "metadata": {},
     "output_type": "execute_result"
    }
   ],
   "source": [
    "mnist80_test_model"
   ]
  },
  {
   "cell_type": "code",
   "execution_count": 1,
   "metadata": {},
   "outputs": [
    {
     "name": "stdout",
     "output_type": "stream",
     "text": [
      "Misclassification entropy:  [0.59167278 0.97095059]\n"
     ]
    }
   ],
   "source": [
    "import numpy as np\n",
    "\n",
    "def misclassification_entropy(confusion_matrix):\n",
    "    normalize_matrix = confusion_matrix / np.sum(confusion_matrix, axis=1, keepdims=True)\n",
    "    log_matrix = np.log2(normalize_matrix)\n",
    "    entropy = -np.sum(normalize_matrix * log_matrix, axis=1)\n",
    "    return entropy\n",
    "\n",
    "# example confusion matrix\n",
    "confusion_matrix = np.array([[30, 5], [10, 15]])\n",
    "\n",
    "entropy = misclassification_entropy(confusion_matrix)\n",
    "print(\"Misclassification entropy: \", entropy)\n"
   ]
  },
  {
   "cell_type": "code",
   "execution_count": null,
   "metadata": {},
   "outputs": [],
   "source": []
  }
 ],
 "metadata": {
  "kernelspec": {
   "display_name": "base",
   "language": "python",
   "name": "python3"
  },
  "language_info": {
   "codemirror_mode": {
    "name": "ipython",
    "version": 3
   },
   "file_extension": ".py",
   "mimetype": "text/x-python",
   "name": "python",
   "nbconvert_exporter": "python",
   "pygments_lexer": "ipython3",
   "version": "3.7.12 | packaged by conda-forge | (default, Oct 26 2021, 06:08:53) \n[GCC 9.4.0]"
  },
  "orig_nbformat": 4,
  "vscode": {
   "interpreter": {
    "hash": "d4d1e4263499bec80672ea0156c357c1ee493ec2b1c70f0acce89fc37c4a6abe"
   }
  }
 },
 "nbformat": 4,
 "nbformat_minor": 2
}
